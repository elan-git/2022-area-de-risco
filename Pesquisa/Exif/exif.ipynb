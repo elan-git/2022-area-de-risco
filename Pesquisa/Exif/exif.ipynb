{
 "cells": [
  {
   "cell_type": "markdown",
   "metadata": {},
   "source": [
    "# Trabalhando Exif\n",
    "\n",
    "## O que é exif?\n",
    "\n",
    "Produzido pela JEITA, é um formato proprietário para uso padrão para imagens, áudios e tags de câmeras digitais.\n",
    "\n",
    "O formato específico desse padrão definido como estruturas de pastas que são baseados em EXIF-JPEG e em formatos de gravação para memória. Quando os formatos usados são arquivos Exif/DCF juntos com o padrão DCF, seu escopo deve cobrir arquivos, mídias gravadas e aplicações de software que suportem eles. Como mencionados antes, os itens aplicáveis são dispositivos com funções de captura, gravação, exibição, edição e capturas de imagens.\n",
    "\n",
    "Especificamente exemplos de dispositivos de captura/gravação que inclui DSC, DVC e câmera de celular.\n",
    "\n",
    "\n",
    "# Definição de termos\n",
    "\n",
    "DSC: Digital still camera (câmera fotográfica digital);\n",
    "\n",
    "DVC: Digital video camera (câmera de vídeo digital);\n",
    "\n",
    "Tag: Um campo de gravação de dados auxiliares sobre uma imagem. Corresponde ao \"filed\" (escudo/campo) em TIFF;\n",
    "\n",
    "Tag information: a descrição de conteúdo da tag;\n",
    "\n",
    "DCF: \"Design rule for Camera File System\" (Regra de design para o sistema de arquivos da câmera), ele define as estruturas de arquivos baseados em Exif-JPEG e formatos de gravação em mémoria, e é o sistema de arquivo padrão para câmera que garante interoperabilidade entre dispositivos de diferentes tipos; \n",
    "\n",
    "DCF media:"
   ]
  },
  {
   "cell_type": "markdown",
   "metadata": {},
   "source": [
    "# General\n",
    "\n",
    "## Exif especificação de arquivo de imagem\n",
    "\n",
    "- Estrutura dos dados da imagem\n",
    "- Tags usadas por esse padrão\n",
    "- Definição e gestão das versões dos formatos\n",
    "\n",
    "A formato de gravação de arquivo é baseado em formatos existentes. Arquivos compresos são gravados ISO/IEC 10918-1 com segmentos de marcadores de aplicativos APP1 e APP2 inseridos. Os arquivos não compresos são gravados em TIFF Rev. 6.0 format.\n",
    "\n",
    "Atributos para ambos tipos de arquivos são guardados no formato de tag definido em TIFF Rev. 6.0. Informações espercíficas do sistema de câmera não são mantidas em TIFF e sim guardadas em tags privadas registradas por Exif. A especificação de arquivo Exif também possuí o método de gravação thumbnails.\n",
    "\n",
    "## Sistema pressuposto e compatibilidade\n",
    "\n",
    "Consiste nos elementos:\n",
    "\n",
    "- Equipamento: aparelhos de imagens como câmeras, impressoras e \"filling equipment\"\n",
    "- Software comercial: Off-the-shelf software de processamento de imagem executado em computadores pessoais\n",
    "- Software especializado: dedicado (sistema específico) para processamento de imagem executado em computadores pessoais\n",
    "\n",
    "## Workflow para editar uma imagem com application software\n",
    "\n",
    "### Ações\n",
    "\n",
    "1. Grvar uma imagem usando escritor Exif/DCF (algumas vezes, gravar metadados é indefinido em Exif)\n",
    "2. Importar para um editor de Exif/DCF (algumas vezes, adicionando metadados indefinidos no exif neste momento)\n",
    "3. Exportar a imagem editada do editor para um leitor Exif/DCF. Existem casos nos quais o leitor Exif/DCF pode corresponder para o 6. \"Especificações de leitura\" em especificações DCF, pode haver casos que não\n",
    "4. Ver a imagem em um leitor Exif/DCf\n",
    "\n",
    "\n"
   ]
  },
  {
   "cell_type": "markdown",
   "metadata": {},
   "source": [
    "# Especificação Exif de arquivo de imagem\n",
    "\n",
    "## Estrutura básica de Image Data\n",
    "\n",
    "### Estrutura básica primary image data \n",
    "\n",
    "- RGB dados não-compressos: TIFF Rev. 6.0 RGb todas as cores da imagem\n",
    "- YCbCr dados não-compressos: TIFF Rev. 6.0 Extensions images YCbCr \n",
    "- JPEG dados compresso: JPEG baseline ADCT\n",
    "\n",
    "Para dados compressos, as informações de atributos requeridas pela aplicação DSC guardados em APP1. Escrever dados em APP1 deve ser compatível TIFF. \n",
    "\n",
    "### Estrutura básica de RGB dados não-compressos\n",
    "\n",
    "Arquivos são estruturados como segue: \n",
    "(Como no padrão TIFF, a localização de gravação de cada valor IFD não é específicado)\n",
    "\n",
    "- File header,\n",
    "- 0th IFD,\n",
    "- 0th IFD Value,\n",
    "- 1st IFD,\n",
    "- 1st IFD Value,\n",
    "- 1st (Thumbnail) Image data,\n",
    "- 0th (Primery) Image Data.\n",
    "\n",
    "File Headers tem 8 bytes como definido no padrão TIFF, com o "
   ]
  },
  {
   "cell_type": "markdown",
   "metadata": {},
   "source": [
    "# Excecução exif"
   ]
  },
  {
   "cell_type": "markdown",
   "metadata": {},
   "source": [
    "## Pillow "
   ]
  },
  {
   "cell_type": "code",
   "execution_count": 22,
   "metadata": {},
   "outputs": [
    {
     "data": {
      "text/plain": [
       "'ImageDescription'"
      ]
     },
     "execution_count": 22,
     "metadata": {},
     "output_type": "execute_result"
    }
   ],
   "source": [
    "from PIL import Image\n",
    "from PIL.ExifTags import TAGS\n",
    "\n",
    "# teste demonstrado na documentação\n",
    "\n",
    "TAGS[0x010e]"
   ]
  },
  {
   "cell_type": "code",
   "execution_count": 23,
   "metadata": {},
   "outputs": [
    {
     "data": {
      "text/plain": [
       "{1: 'InteropIndex',\n",
       " 11: 'ProcessingSoftware',\n",
       " 254: 'NewSubfileType',\n",
       " 255: 'SubfileType',\n",
       " 256: 'ImageWidth',\n",
       " 257: 'ImageLength',\n",
       " 258: 'BitsPerSample',\n",
       " 259: 'Compression',\n",
       " 262: 'PhotometricInterpretation',\n",
       " 263: 'Thresholding',\n",
       " 264: 'CellWidth',\n",
       " 265: 'CellLength',\n",
       " 266: 'FillOrder',\n",
       " 269: 'DocumentName',\n",
       " 270: 'ImageDescription',\n",
       " 271: 'Make',\n",
       " 272: 'Model',\n",
       " 273: 'StripOffsets',\n",
       " 274: 'Orientation',\n",
       " 277: 'SamplesPerPixel',\n",
       " 278: 'RowsPerStrip',\n",
       " 279: 'StripByteCounts',\n",
       " 280: 'MinSampleValue',\n",
       " 281: 'MaxSampleValue',\n",
       " 282: 'XResolution',\n",
       " 283: 'YResolution',\n",
       " 284: 'PlanarConfiguration',\n",
       " 285: 'PageName',\n",
       " 288: 'FreeOffsets',\n",
       " 289: 'FreeByteCounts',\n",
       " 290: 'GrayResponseUnit',\n",
       " 291: 'GrayResponseCurve',\n",
       " 292: 'T4Options',\n",
       " 293: 'T6Options',\n",
       " 296: 'ResolutionUnit',\n",
       " 297: 'PageNumber',\n",
       " 301: 'TransferFunction',\n",
       " 305: 'Software',\n",
       " 306: 'DateTime',\n",
       " 315: 'Artist',\n",
       " 316: 'HostComputer',\n",
       " 317: 'Predictor',\n",
       " 318: 'WhitePoint',\n",
       " 319: 'PrimaryChromaticities',\n",
       " 320: 'ColorMap',\n",
       " 321: 'HalftoneHints',\n",
       " 322: 'TileWidth',\n",
       " 323: 'TileLength',\n",
       " 324: 'TileOffsets',\n",
       " 325: 'TileByteCounts',\n",
       " 330: 'SubIFDs',\n",
       " 332: 'InkSet',\n",
       " 333: 'InkNames',\n",
       " 334: 'NumberOfInks',\n",
       " 336: 'DotRange',\n",
       " 337: 'TargetPrinter',\n",
       " 338: 'ExtraSamples',\n",
       " 339: 'SampleFormat',\n",
       " 340: 'SMinSampleValue',\n",
       " 341: 'SMaxSampleValue',\n",
       " 342: 'TransferRange',\n",
       " 343: 'ClipPath',\n",
       " 344: 'XClipPathUnits',\n",
       " 345: 'YClipPathUnits',\n",
       " 346: 'Indexed',\n",
       " 347: 'JPEGTables',\n",
       " 351: 'OPIProxy',\n",
       " 512: 'JPEGProc',\n",
       " 513: 'JpegIFOffset',\n",
       " 514: 'JpegIFByteCount',\n",
       " 515: 'JpegRestartInterval',\n",
       " 517: 'JpegLosslessPredictors',\n",
       " 518: 'JpegPointTransforms',\n",
       " 519: 'JpegQTables',\n",
       " 520: 'JpegDCTables',\n",
       " 521: 'JpegACTables',\n",
       " 529: 'YCbCrCoefficients',\n",
       " 530: 'YCbCrSubSampling',\n",
       " 531: 'YCbCrPositioning',\n",
       " 532: 'ReferenceBlackWhite',\n",
       " 700: 'XMLPacket',\n",
       " 4096: 'RelatedImageFileFormat',\n",
       " 4097: 'RelatedImageWidth',\n",
       " 4098: 'RelatedImageLength',\n",
       " 18246: 'Rating',\n",
       " 18249: 'RatingPercent',\n",
       " 32781: 'ImageID',\n",
       " 33421: 'CFARepeatPatternDim',\n",
       " 33422: 'CFAPattern',\n",
       " 33423: 'BatteryLevel',\n",
       " 33432: 'Copyright',\n",
       " 33434: 'ExposureTime',\n",
       " 33437: 'FNumber',\n",
       " 33723: 'IPTCNAA',\n",
       " 34377: 'ImageResources',\n",
       " 34665: 'ExifOffset',\n",
       " 34675: 'InterColorProfile',\n",
       " 34850: 'ExposureProgram',\n",
       " 34852: 'SpectralSensitivity',\n",
       " 34853: 'GPSInfo',\n",
       " 34855: 'ISOSpeedRatings',\n",
       " 34856: 'OECF',\n",
       " 34857: 'Interlace',\n",
       " 34858: 'TimeZoneOffset',\n",
       " 34859: 'SelfTimerMode',\n",
       " 34864: 'SensitivityType',\n",
       " 34865: 'StandardOutputSensitivity',\n",
       " 34866: 'RecommendedExposureIndex',\n",
       " 34867: 'ISOSpeed',\n",
       " 34868: 'ISOSpeedLatitudeyyy',\n",
       " 34869: 'ISOSpeedLatitudezzz',\n",
       " 36864: 'ExifVersion',\n",
       " 36867: 'DateTimeOriginal',\n",
       " 36868: 'DateTimeDigitized',\n",
       " 36880: 'OffsetTime',\n",
       " 36881: 'OffsetTimeOriginal',\n",
       " 36882: 'OffsetTimeDigitized',\n",
       " 37121: 'ComponentsConfiguration',\n",
       " 37122: 'CompressedBitsPerPixel',\n",
       " 37377: 'ShutterSpeedValue',\n",
       " 37378: 'ApertureValue',\n",
       " 37379: 'BrightnessValue',\n",
       " 37380: 'ExposureBiasValue',\n",
       " 37381: 'MaxApertureValue',\n",
       " 37382: 'SubjectDistance',\n",
       " 37383: 'MeteringMode',\n",
       " 37384: 'LightSource',\n",
       " 37385: 'Flash',\n",
       " 37386: 'FocalLength',\n",
       " 37387: 'FlashEnergy',\n",
       " 37388: 'SpatialFrequencyResponse',\n",
       " 37389: 'Noise',\n",
       " 37393: 'ImageNumber',\n",
       " 37394: 'SecurityClassification',\n",
       " 37395: 'ImageHistory',\n",
       " 37396: 'SubjectLocation',\n",
       " 37397: 'ExposureIndex',\n",
       " 37398: 'TIFF/EPStandardID',\n",
       " 37500: 'MakerNote',\n",
       " 37510: 'UserComment',\n",
       " 37520: 'SubsecTime',\n",
       " 37521: 'SubsecTimeOriginal',\n",
       " 37522: 'SubsecTimeDigitized',\n",
       " 37888: 'AmbientTemperature',\n",
       " 37889: 'Humidity',\n",
       " 37890: 'Pressure',\n",
       " 37891: 'WaterDepth',\n",
       " 37892: 'Acceleration',\n",
       " 37893: 'CameraElevationAngle',\n",
       " 40091: 'XPTitle',\n",
       " 40092: 'XPComment',\n",
       " 40093: 'XPAuthor',\n",
       " 40094: 'XPKeywords',\n",
       " 40095: 'XPSubject',\n",
       " 40960: 'FlashPixVersion',\n",
       " 40961: 'ColorSpace',\n",
       " 40962: 'ExifImageWidth',\n",
       " 40963: 'ExifImageHeight',\n",
       " 40964: 'RelatedSoundFile',\n",
       " 40965: 'ExifInteroperabilityOffset',\n",
       " 41483: 'FlashEnergy',\n",
       " 41484: 'SpatialFrequencyResponse',\n",
       " 41486: 'FocalPlaneXResolution',\n",
       " 41487: 'FocalPlaneYResolution',\n",
       " 41488: 'FocalPlaneResolutionUnit',\n",
       " 41492: 'SubjectLocation',\n",
       " 41493: 'ExposureIndex',\n",
       " 41495: 'SensingMethod',\n",
       " 41728: 'FileSource',\n",
       " 41729: 'SceneType',\n",
       " 41730: 'CFAPattern',\n",
       " 41985: 'CustomRendered',\n",
       " 41986: 'ExposureMode',\n",
       " 41987: 'WhiteBalance',\n",
       " 41988: 'DigitalZoomRatio',\n",
       " 41989: 'FocalLengthIn35mmFilm',\n",
       " 41990: 'SceneCaptureType',\n",
       " 41991: 'GainControl',\n",
       " 41992: 'Contrast',\n",
       " 41993: 'Saturation',\n",
       " 41994: 'Sharpness',\n",
       " 41995: 'DeviceSettingDescription',\n",
       " 41996: 'SubjectDistanceRange',\n",
       " 42016: 'ImageUniqueID',\n",
       " 42032: 'CameraOwnerName',\n",
       " 42033: 'BodySerialNumber',\n",
       " 42034: 'LensSpecification',\n",
       " 42035: 'LensMake',\n",
       " 42036: 'LensModel',\n",
       " 42037: 'LensSerialNumber',\n",
       " 42080: 'CompositeImage',\n",
       " 42081: 'CompositeImageCount',\n",
       " 42082: 'CompositeImageExposureTimes',\n",
       " 42240: 'Gamma',\n",
       " 50341: 'PrintImageMatching',\n",
       " 50706: 'DNGVersion',\n",
       " 50707: 'DNGBackwardVersion',\n",
       " 50708: 'UniqueCameraModel',\n",
       " 50709: 'LocalizedCameraModel',\n",
       " 50710: 'CFAPlaneColor',\n",
       " 50711: 'CFALayout',\n",
       " 50712: 'LinearizationTable',\n",
       " 50713: 'BlackLevelRepeatDim',\n",
       " 50714: 'BlackLevel',\n",
       " 50715: 'BlackLevelDeltaH',\n",
       " 50716: 'BlackLevelDeltaV',\n",
       " 50717: 'WhiteLevel',\n",
       " 50718: 'DefaultScale',\n",
       " 50719: 'DefaultCropOrigin',\n",
       " 50720: 'DefaultCropSize',\n",
       " 50721: 'ColorMatrix1',\n",
       " 50722: 'ColorMatrix2',\n",
       " 50723: 'CameraCalibration1',\n",
       " 50724: 'CameraCalibration2',\n",
       " 50725: 'ReductionMatrix1',\n",
       " 50726: 'ReductionMatrix2',\n",
       " 50727: 'AnalogBalance',\n",
       " 50728: 'AsShotNeutral',\n",
       " 50729: 'AsShotWhiteXY',\n",
       " 50730: 'BaselineExposure',\n",
       " 50731: 'BaselineNoise',\n",
       " 50732: 'BaselineSharpness',\n",
       " 50733: 'BayerGreenSplit',\n",
       " 50734: 'LinearResponseLimit',\n",
       " 50735: 'CameraSerialNumber',\n",
       " 50736: 'LensInfo',\n",
       " 50737: 'ChromaBlurRadius',\n",
       " 50738: 'AntiAliasStrength',\n",
       " 50739: 'ShadowScale',\n",
       " 50740: 'DNGPrivateData',\n",
       " 50741: 'MakerNoteSafety',\n",
       " 50778: 'CalibrationIlluminant1',\n",
       " 50779: 'CalibrationIlluminant2',\n",
       " 50780: 'BestQualityScale',\n",
       " 50781: 'RawDataUniqueID',\n",
       " 50827: 'OriginalRawFileName',\n",
       " 50828: 'OriginalRawFileData',\n",
       " 50829: 'ActiveArea',\n",
       " 50830: 'MaskedAreas',\n",
       " 50831: 'AsShotICCProfile',\n",
       " 50832: 'AsShotPreProfileMatrix',\n",
       " 50833: 'CurrentICCProfile',\n",
       " 50834: 'CurrentPreProfileMatrix',\n",
       " 50879: 'ColorimetricReference',\n",
       " 50931: 'CameraCalibrationSignature',\n",
       " 50932: 'ProfileCalibrationSignature',\n",
       " 50934: 'AsShotProfileName',\n",
       " 50935: 'NoiseReductionApplied',\n",
       " 50936: 'ProfileName',\n",
       " 50937: 'ProfileHueSatMapDims',\n",
       " 50938: 'ProfileHueSatMapData1',\n",
       " 50939: 'ProfileHueSatMapData2',\n",
       " 50940: 'ProfileToneCurve',\n",
       " 50941: 'ProfileEmbedPolicy',\n",
       " 50942: 'ProfileCopyright',\n",
       " 50964: 'ForwardMatrix1',\n",
       " 50965: 'ForwardMatrix2',\n",
       " 50966: 'PreviewApplicationName',\n",
       " 50967: 'PreviewApplicationVersion',\n",
       " 50968: 'PreviewSettingsName',\n",
       " 50969: 'PreviewSettingsDigest',\n",
       " 50970: 'PreviewColorSpace',\n",
       " 50971: 'PreviewDateTime',\n",
       " 50972: 'RawImageDigest',\n",
       " 50973: 'OriginalRawFileDigest',\n",
       " 50974: 'SubTileBlockSize',\n",
       " 50975: 'RowInterleaveFactor',\n",
       " 50981: 'ProfileLookTableDims',\n",
       " 50982: 'ProfileLookTableData',\n",
       " 51008: 'OpcodeList1',\n",
       " 51009: 'OpcodeList2',\n",
       " 51022: 'OpcodeList3',\n",
       " 51041: 'NoiseProfile'}"
      ]
     },
     "execution_count": 23,
     "metadata": {},
     "output_type": "execute_result"
    }
   ],
   "source": [
    "TAGS"
   ]
  },
  {
   "cell_type": "code",
   "execution_count": 24,
   "metadata": {},
   "outputs": [
    {
     "data": {
      "text/plain": [
       "'GPSDestLatitude'"
      ]
     },
     "execution_count": 24,
     "metadata": {},
     "output_type": "execute_result"
    }
   ],
   "source": [
    "from PIL.ExifTags import GPSTAGS\n",
    "GPSTAGS[20]"
   ]
  },
  {
   "cell_type": "code",
   "execution_count": 25,
   "metadata": {},
   "outputs": [
    {
     "data": {
      "text/plain": [
       "<PIL.Image.Exif at 0x224bcfd3160>"
      ]
     },
     "execution_count": 25,
     "metadata": {},
     "output_type": "execute_result"
    }
   ],
   "source": [
    "#testando a leitura de exif pela librery Pillow\n",
    "\n",
    "im = Image.open(\"D:\\\\Users\\\\JrOkean\\\\Documents\\\\UFS\\\\Drones Humanitários\\\\Play prog\\\\Exif\\\\imagem_teste\\\\freljord-glaserport.jpg\") #Imagem retirada do site League of Legends, regiões de Runeterra, Flejord\n",
    "im2 = Image.open(\"D:\\\\Users\\\\JrOkean\\\\Documents\\\\UFS\\\\Drones Humanitários\\\\Play prog\\\\Exif\\\\imagem_teste\\\\IMG-20220629-WA0011.jpeg\") #Imagem retirada pelo celular e baixada pelo Google fotos\n",
    "im3 = Image.open(\"D:\\\\Users\\\\JrOkean\\\\Documents\\\\UFS\\\\Drones Humanitários\\\\Play prog\\\\Exif\\\\imagem_teste\\\\JrOkena_aEstudiosa.jpeg\") #Imagem produzida em evento League of legends, crie seu avatar\n",
    "\n",
    "im.getexif()"
   ]
  },
  {
   "cell_type": "code",
   "execution_count": 29,
   "metadata": {},
   "outputs": [
    {
     "data": {
      "text/plain": [
       "<PIL.Image.Exif at 0x224be234070>"
      ]
     },
     "execution_count": 29,
     "metadata": {},
     "output_type": "execute_result"
    }
   ],
   "source": [
    "im2.getexif()"
   ]
  },
  {
   "cell_type": "code",
   "execution_count": 27,
   "metadata": {},
   "outputs": [
    {
     "data": {
      "text/plain": [
       "<PIL.Image.Exif at 0x224be20bd90>"
      ]
     },
     "execution_count": 27,
     "metadata": {},
     "output_type": "execute_result"
    }
   ],
   "source": [
    "im3.getexif()"
   ]
  },
  {
   "cell_type": "markdown",
   "metadata": {},
   "source": [
    "## Exif pypi"
   ]
  }
 ],
 "metadata": {
  "kernelspec": {
   "display_name": "Python 3.10.5 64-bit",
   "language": "python",
   "name": "python3"
  },
  "language_info": {
   "codemirror_mode": {
    "name": "ipython",
    "version": 3
   },
   "file_extension": ".py",
   "mimetype": "text/x-python",
   "name": "python",
   "nbconvert_exporter": "python",
   "pygments_lexer": "ipython3",
   "version": "3.10.5"
  },
  "orig_nbformat": 4,
  "vscode": {
   "interpreter": {
    "hash": "8f85762f43e954a6f3b8a3810a79586fd9237fbb69d349f6dd5568fb03b45226"
   }
  }
 },
 "nbformat": 4,
 "nbformat_minor": 2
}
