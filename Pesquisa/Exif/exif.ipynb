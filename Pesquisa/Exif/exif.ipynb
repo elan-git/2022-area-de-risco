{
 "cells": [
  {
   "cell_type": "markdown",
   "metadata": {},
   "source": [
    "# Trabalhando Exif\n",
    "\n",
    "## O que é exif?\n",
    "\n",
    "Produzido pela JEITA, é um formato proprietário para uso padrão para imagens, áudios e tags de câmeras digitais.\n",
    "\n",
    "O formato específico desse padrão definido como estruturas de pastas que são baseados em EXIF-JPEG e em formatos de gravação para memória. Quando os formatos usados são arquivos Exif/DCF juntos com o padrão DCF, seu escopo deve cobrir arquivos, mídias gravadas e aplicações de software que suportem eles. Como mencionados antes, os itens aplicáveis são dispositivos com funções de captura, gravação, exibição, edição e capturas de imagens.\n",
    "\n",
    "Especificamente exemplos de dispositivos de captura/gravação que inclui DSC, DVC e câmera de celular.\n",
    "\n",
    "\n",
    "# Definição de termos\n",
    "\n",
    "DSC: Digital still camera (câmera fotográfica digital);\n",
    "\n",
    "DVC: Digital video camera (câmera de vídeo digital);\n",
    "\n",
    "Tag: Um campo de gravação de dados auxiliares sobre uma imagem. Corresponde ao \"filed\" (escudo/campo) em TIFF;\n",
    "\n",
    "Tag information: a descrição de conteúdo da tag;\n",
    "\n",
    "DCF: \"Design rule for Camera File System\" (Regra de design para o sistema de arquivos da câmera), ele define as estruturas de arquivos baseados em Exif-JPEG e formatos de gravação em mémoria, e é o sistema de arquivo padrão para câmera que garante interoperabilidade entre dispositivos de diferentes tipos; \n",
    "\n",
    "DCF media:"
   ]
  }
 ],
 "metadata": {
  "language_info": {
   "name": "python"
  },
  "orig_nbformat": 4
 },
 "nbformat": 4,
 "nbformat_minor": 2
}
